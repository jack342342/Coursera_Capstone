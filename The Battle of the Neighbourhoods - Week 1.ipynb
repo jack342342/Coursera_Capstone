{
 "cells": [
  {
   "cell_type": "markdown",
   "metadata": {},
   "source": [
    "# The Battle of the Neighbourhoods - Week 1"
   ]
  },
  {
   "cell_type": "markdown",
   "metadata": {},
   "source": [
    "## 1 Overview of Project"
   ]
  },
  {
   "cell_type": "markdown",
   "metadata": {},
   "source": [
    "### 1.1 The Problem"
   ]
  },
  {
   "cell_type": "markdown",
   "metadata": {},
   "source": [
    "The business problem is <b> Finding Untapped Regional Cuisines in London's Catering Industry </b>"
   ]
  },
  {
   "cell_type": "markdown",
   "metadata": {},
   "source": [
    "### 1.2 Background"
   ]
  },
  {
   "cell_type": "markdown",
   "metadata": {},
   "source": [
    "London is the epicentre of diversity in the United Kingdom which is reflected in the city's catering service; bringing a myriad of different global cuisines to the economic forefront, many of which being family-run businesses. It may be possible to draw correlations between the demographics of certain parts of London with how successful certain ethnic businesses. If this is the case, then it may also be possible to explore if there are any cases which seem to follow suit and as such find regions of London which may have untapped market potential."
   ]
  },
  {
   "cell_type": "markdown",
   "metadata": {},
   "source": [
    "## 2 Methodology"
   ]
  },
  {
   "cell_type": "markdown",
   "metadata": {},
   "source": [
    "### 2.1 Data Sources"
   ]
  },
  {
   "cell_type": "markdown",
   "metadata": {},
   "source": [
    "The project will use three primary datasets:\n",
    "<ol>\n",
    "    <li>An abridged form of the London borough data from the wikipedia page; outlining the coordinates, area, and population.</li>\n",
    "    <li>The foursquare API to corroborate with the location data, in order to provide data for the venues in the vicinity. This dataset will be at the core of analytics.</li>\n",
    "    <li>Demographic data for each London borough which can be cross-referenced with the venues, to try to draw conclusions on the part demography plays on the industry.</li>\n",
    "<ol>"
   ]
  },
  {
   "cell_type": "markdown",
   "metadata": {},
   "source": [
    "### 2.2 Methodology for Research"
   ]
  },
  {
   "cell_type": "markdown",
   "metadata": {},
   "source": [
    "<ol>\n",
    "    <li>Data from wikipedia needs to be cleaned and put in an easily accessible form.</li>\n",
    "    <li>Exploratory analysis for demongraphy data to get an intuition for the distribution of ethnicities in London.</li>\n",
    "    <li>Use borough data to invoke foursquare api, and process said data into one-hot encoding form.</li>\n",
    "    <li>Use k-Means clustering to visualise similar breakdowns across different boroughs.</li>\n",
    "    <li>Compare clusters to demography to see what conclusions can be drawn.</li>\n",
    "</ol>"
   ]
  }
 ],
 "metadata": {
  "kernelspec": {
   "display_name": "Python 3",
   "language": "python",
   "name": "python3"
  },
  "language_info": {
   "codemirror_mode": {
    "name": "ipython",
    "version": 3
   },
   "file_extension": ".py",
   "mimetype": "text/x-python",
   "name": "python",
   "nbconvert_exporter": "python",
   "pygments_lexer": "ipython3",
   "version": "3.7.6"
  }
 },
 "nbformat": 4,
 "nbformat_minor": 4
}
